{
 "cells": [
  {
   "cell_type": "markdown",
   "metadata": {},
   "source": [
    "# Data Warehouse Creation"
   ]
  },
  {
   "cell_type": "code",
   "execution_count": 1,
   "metadata": {},
   "outputs": [],
   "source": [
    "%run create_tables.py"
   ]
  },
  {
   "cell_type": "code",
   "execution_count": 2,
   "metadata": {
    "scrolled": true
   },
   "outputs": [],
   "source": [
    "%run etl.py"
   ]
  },
  {
   "cell_type": "markdown",
   "metadata": {},
   "source": [
    "# Building connection"
   ]
  },
  {
   "cell_type": "code",
   "execution_count": 3,
   "metadata": {},
   "outputs": [],
   "source": [
    "import configparser\n",
    "import psycopg2"
   ]
  },
  {
   "cell_type": "code",
   "execution_count": 4,
   "metadata": {},
   "outputs": [],
   "source": [
    "config = configparser.ConfigParser()\n",
    "config.read('dwh.cfg')\n",
    "\n",
    "conn = psycopg2.connect(\"host={} dbname={} user={} password={} port={}\".format(*config['CLUSTER'].values()))\n",
    "cur = conn.cursor()"
   ]
  },
  {
   "cell_type": "markdown",
   "metadata": {},
   "source": [
    "# Querying user dimension"
   ]
  },
  {
   "cell_type": "code",
   "execution_count": 5,
   "metadata": {},
   "outputs": [
    {
     "name": "stdout",
     "output_type": "stream",
     "text": [
      "(61, 'Samuel', 'Gonzalez', 'M', 'free')\n",
      "(75, 'Joseph', 'Gutierrez', 'M', 'free')\n",
      "(20, 'Aiden', 'Ramirez', 'M', 'paid')\n",
      "(77, 'Magdalene', 'Herman', 'F', 'free')\n",
      "(70, 'Jaleah', 'Hayes', 'F', 'paid')\n",
      "(15, 'Lily', 'Koch', 'F', 'paid')\n",
      "(27, 'Carlos', 'Carter', 'M', 'free')\n",
      "(15, 'Lily', 'Koch', 'F', 'free')\n",
      "(41, 'Brayden', 'Clark', 'M', 'free')\n",
      "(45, 'Dominick', 'Norris', 'M', 'free')\n",
      "CPU times: user 0 ns, sys: 2.49 ms, total: 2.49 ms\n",
      "Wall time: 205 ms\n"
     ]
    }
   ],
   "source": [
    "%%time\n",
    "query = \"\"\"\n",
    "select * from dim_user limit 10\n",
    "\"\"\"\n",
    "\n",
    "cur.execute(query)\n",
    "result: tuple = cur.fetchall()\n",
    "\n",
    "for r in result:\n",
    "    print(r)"
   ]
  },
  {
   "cell_type": "markdown",
   "metadata": {},
   "source": [
    "# Querying song dimension"
   ]
  },
  {
   "cell_type": "code",
   "execution_count": 6,
   "metadata": {},
   "outputs": [
    {
     "name": "stdout",
     "output_type": "stream",
     "text": [
      "('SOTCYVC12A8C138F87', 'Who Am I?', 'AROQL0S1187FB57CFD', 0, 168.6722)\n",
      "('SOGTRKA12A8C137D72', 'Somos Gitanos', 'AR2UQQ51187B9AC816', 2001, 222.92853)\n",
      "('SOTDKGV12AB017E39A', 'Why', 'AR8WV031187FB3F903', 2009, 190.17098)\n",
      "('SOBMVTW12A6D4F636C', 'Love Theme From \"Lady Sings The Blues', 'ARRL7WS1187FB576F1', 0, 185.88689)\n",
      "('SOCHCGY12A8C13B029', 'Odysseus (1999 Digital Remaster)', 'ARBHPCJ1187B9B0853', 0, 347.08853)\n",
      "('SONJRUV12AF72A20D7', 'Numb Milleneum', 'ARI8U521187B9A8B97', 2000, 105.09016)\n",
      "('SOUVTOG12A67ADAE5C', 'Ich vermiss Dich', 'ARJEOGL1187B98E9D4', 2006, 210.72934)\n",
      "('SOHTGJW12A58A7D7D3', 'The Fundamental Alienation', 'ARLSF8H1187B9A76B0', 2007, 317.36118)\n",
      "('SOBBJEE12A8C141C76', 'Intensity', 'AR7Z6XC1187FB39800', 2007, 393.482)\n",
      "('SOYVAAQ12A6D4F8026', 'Sex', 'AR4R0741187FB39AF2', 0, 167.83628)\n",
      "CPU times: user 1.88 ms, sys: 1.15 ms, total: 3.03 ms\n",
      "Wall time: 118 ms\n"
     ]
    }
   ],
   "source": [
    "%%time\n",
    "query = \"\"\"\n",
    "select * from dim_song limit 10\n",
    "\"\"\"\n",
    "\n",
    "cur.execute(query)\n",
    "result: tuple = cur.fetchall()\n",
    "\n",
    "for r in result:\n",
    "    print(r)"
   ]
  },
  {
   "cell_type": "markdown",
   "metadata": {},
   "source": [
    "# Querying artist dimension"
   ]
  },
  {
   "cell_type": "code",
   "execution_count": 7,
   "metadata": {},
   "outputs": [
    {
     "name": "stdout",
     "output_type": "stream",
     "text": [
      "('ARNQGIZ1187B9A7546', 'NOVI FOSILI', '', None, None)\n",
      "('ARDY1CB1187B9B027D', 'Osvaldo Pugliese', '', None, None)\n",
      "('ARAPI451187B9B6E6F', 'John Michael Talbot', 'Oklahoma City, OK', 35.472, -97.52033)\n",
      "('ARUYNK81187FB51B15', 'Atlas Sound', '', None, None)\n",
      "('AR8CZ1U1187FB4CED1', 'The Be Good Tanyas', 'Vancouver, British Columbia, Cana', 49.26044, -123.11403)\n",
      "('AR6XXDN1187FB4B01B', 'Chiens De Paille', 'Cannes, France', 43.55326, 7.01325)\n",
      "('ARMAC4T1187FB3FA4C', 'The Dillinger Escape Plan', 'Morris Plains, NJ', 40.82624, -74.47995)\n",
      "('ARUMM9B1187FB4584C', 'Reno & Smiley (With Carter & Ralph Stanley)', '', None, None)\n",
      "('AR4K2P91187B9B2B35', 'Sam Cooke', 'Clarksdale, MS', 34.19451, -90.5651)\n",
      "('ARNGX901187B9B194F', 'Gorefest', '', None, None)\n",
      "CPU times: user 1.27 ms, sys: 878 µs, total: 2.15 ms\n",
      "Wall time: 111 ms\n"
     ]
    }
   ],
   "source": [
    "%%time\n",
    "query = \"\"\"\n",
    "select * from dim_artist limit 10\n",
    "\"\"\"\n",
    "\n",
    "cur.execute(query)\n",
    "result: tuple = cur.fetchall()\n",
    "\n",
    "for r in result:\n",
    "    print(r)"
   ]
  },
  {
   "cell_type": "markdown",
   "metadata": {},
   "source": [
    "# Querying time dimension"
   ]
  },
  {
   "cell_type": "code",
   "execution_count": 8,
   "metadata": {},
   "outputs": [
    {
     "name": "stdout",
     "output_type": "stream",
     "text": [
      "(datetime.datetime(2018, 11, 10, 4, 1, 42), 4, 10, 45, 11, 2018, False)\n",
      "(datetime.datetime(2018, 11, 10, 8, 26, 32), 8, 10, 45, 11, 2018, False)\n",
      "(datetime.datetime(2018, 11, 3, 1, 4, 33), 1, 3, 44, 11, 2018, False)\n",
      "(datetime.datetime(2018, 11, 3, 1, 5, 50), 1, 3, 44, 11, 2018, False)\n",
      "(datetime.datetime(2018, 11, 3, 16, 7, 39), 16, 3, 44, 11, 2018, False)\n",
      "(datetime.datetime(2018, 11, 3, 16, 10, 32), 16, 3, 44, 11, 2018, False)\n",
      "(datetime.datetime(2018, 11, 3, 16, 39, 49), 16, 3, 44, 11, 2018, False)\n",
      "(datetime.datetime(2018, 11, 15, 0, 45, 41), 0, 15, 46, 11, 2018, True)\n",
      "(datetime.datetime(2018, 11, 15, 6, 10, 33), 6, 15, 46, 11, 2018, True)\n",
      "(datetime.datetime(2018, 11, 12, 2, 45, 52), 2, 12, 46, 11, 2018, True)\n",
      "CPU times: user 2.06 ms, sys: 8 µs, total: 2.07 ms\n",
      "Wall time: 116 ms\n"
     ]
    }
   ],
   "source": [
    "%%time\n",
    "query = \"\"\"\n",
    "select * from dim_time limit 10\n",
    "\"\"\"\n",
    "\n",
    "cur.execute(query)\n",
    "result: tuple = cur.fetchall()\n",
    "\n",
    "for r in result:\n",
    "    print(r)"
   ]
  },
  {
   "cell_type": "markdown",
   "metadata": {},
   "source": [
    "# Querying songplay fact"
   ]
  },
  {
   "cell_type": "code",
   "execution_count": 9,
   "metadata": {
    "scrolled": true
   },
   "outputs": [
    {
     "name": "stdout",
     "output_type": "stream",
     "text": [
      "(257, datetime.datetime(2018, 11, 9, 11, 44, 35), 95, 'paid', 'SOHTKMO12AB01843B0', 'AR5EYTL1187B98EDA0', 276, 'Winston-Salem, NC', '\"Mozilla/5.0 (iPhone; CPU iPhone OS 7_1_2 like Mac OS X) AppleWebKit/537.51.2 (KHTML, like Gecko) Version/7.0 Mobile/11D257 Safari/9537.53\"')\n",
      "(513, datetime.datetime(2018, 11, 13, 17, 47, 5), 29, 'paid', 'SOJWFXM12A3F1EBE8B', 'AR049S81187B9AE8A5', 486, 'Atlanta-Sandy Springs-Roswell, GA', '\"Mozilla/5.0 (Macintosh; Intel Mac OS X 10_9_4) AppleWebKit/537.78.2 (KHTML, like Gecko) Version/7.0.6 Safari/537.78.2\"')\n",
      "(130, datetime.datetime(2018, 11, 20, 17, 18, 31), 49, 'paid', 'SONQWXY12A81C204D7', 'ARCEXLE1187FB3A93E', 758, 'San Francisco-Oakland-Hayward, CA', 'Mozilla/5.0 (Windows NT 5.1; rv:31.0) Gecko/20100101 Firefox/31.0')\n",
      "(226, datetime.datetime(2018, 11, 26, 11, 35, 51), 15, 'paid', 'SOLLOSO12AB0184A7A', 'ARVXU2X1187B9AE6D8', 834, 'Chicago-Naperville-Elgin, IL-IN-WI', '\"Mozilla/5.0 (X11; Linux x86_64) AppleWebKit/537.36 (KHTML, like Gecko) Ubuntu Chromium/36.0.1985.125 Chrome/36.0.1985.125 Safari/537.36\"')\n",
      "(53, datetime.datetime(2018, 11, 8, 10, 28, 27), 80, 'paid', 'SONQEYS12AF72AABC9', 'ARLY7P81187B9ACF4D', 342, 'Portland-South Portland, ME', '\"Mozilla/5.0 (Macintosh; Intel Mac OS X 10_9_4) AppleWebKit/537.36 (KHTML, like Gecko) Chrome/36.0.1985.143 Safari/537.36\"')\n",
      "(281, datetime.datetime(2018, 11, 20, 20, 17, 20), 85, 'paid', 'SOTVSNZ12A8C13DA01', 'ARF8JDZ1187FB37A42', 776, 'Red Bluff, CA', '\"Mozilla/5.0 (Macintosh; Intel Mac OS X 10_10_0) AppleWebKit/537.36 (KHTML, like Gecko) Chrome/36.0.1985.143 Safari/537.36\"')\n",
      "(92, datetime.datetime(2018, 11, 30, 14, 7, 56), 85, 'paid', 'SOXFSTR12A8AE463B0', 'ARR3ONV1187B9A2F59', 977, 'Red Bluff, CA', '\"Mozilla/5.0 (Macintosh; Intel Mac OS X 10_10_0) AppleWebKit/537.36 (KHTML, like Gecko) Chrome/36.0.1985.143 Safari/537.36\"')\n",
      "(58, datetime.datetime(2018, 11, 28, 11, 38, 11), 82, 'paid', 'SOIZLKI12A6D4F7B61', 'ARR3ONV1187B9A2F59', 140, 'Atlanta-Sandy Springs-Roswell, GA', '\"Mozilla/5.0 (Macintosh; Intel Mac OS X 10_9_3) AppleWebKit/537.36 (KHTML, like Gecko) Chrome/37.0.2062.94 Safari/537.36\"')\n",
      "(186, datetime.datetime(2018, 11, 13, 19, 11, 19), 97, 'paid', 'SOQSYGY12A8C137E0F', 'AROF4LP1187FB41C51', 537, 'Lansing-East Lansing, MI', '\"Mozilla/5.0 (X11; Linux x86_64) AppleWebKit/537.36 (KHTML, like Gecko) Chrome/37.0.2062.94 Safari/537.36\"')\n",
      "(219, datetime.datetime(2018, 11, 9, 19, 35, 24), 36, 'paid', 'SOBJUKG12A58A7DCA8', 'AR9W3X91187FB3994C', 392, 'Janesville-Beloit, WI', '\"Mozilla/5.0 (Windows NT 5.1) AppleWebKit/537.36 (KHTML, like Gecko) Chrome/36.0.1985.143 Safari/537.36\"')\n",
      "CPU times: user 1.89 ms, sys: 0 ns, total: 1.89 ms\n",
      "Wall time: 114 ms\n"
     ]
    }
   ],
   "source": [
    "%%time\n",
    "query = \"\"\"\n",
    "select * from fact_songplay limit 10\n",
    "\"\"\"\n",
    "\n",
    "cur.execute(query)\n",
    "result: tuple = cur.fetchall()\n",
    "\n",
    "for r in result:\n",
    "    print(r)"
   ]
  },
  {
   "cell_type": "markdown",
   "metadata": {},
   "source": [
    "# Debugging"
   ]
  },
  {
   "cell_type": "code",
   "execution_count": 10,
   "metadata": {},
   "outputs": [],
   "source": [
    "query = \"\"\"\n",
    "select * from stl_load_errors\n",
    "\"\"\"\n",
    "\n",
    "cur.execute(query)\n",
    "result: tuple = cur.fetchall()\n",
    "\n",
    "for r in result:\n",
    "    print(r)"
   ]
  },
  {
   "cell_type": "markdown",
   "metadata": {},
   "source": [
    "# Close Connection"
   ]
  },
  {
   "cell_type": "code",
   "execution_count": 11,
   "metadata": {},
   "outputs": [],
   "source": [
    "conn.close()"
   ]
  }
 ],
 "metadata": {
  "kernelspec": {
   "display_name": "Python 3",
   "language": "python",
   "name": "python3"
  },
  "language_info": {
   "codemirror_mode": {
    "name": "ipython",
    "version": 3
   },
   "file_extension": ".py",
   "mimetype": "text/x-python",
   "name": "python",
   "nbconvert_exporter": "python",
   "pygments_lexer": "ipython3",
   "version": "3.6.3"
  }
 },
 "nbformat": 4,
 "nbformat_minor": 2
}
