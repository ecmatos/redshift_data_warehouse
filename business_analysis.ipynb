{
 "cells": [
  {
   "cell_type": "markdown",
   "metadata": {},
   "source": [
    "# Building connection"
   ]
  },
  {
   "cell_type": "code",
   "execution_count": 1,
   "metadata": {},
   "outputs": [],
   "source": [
    "import configparser\n",
    "import psycopg2\n",
    "import pandas as pd\n",
    "\n",
    "config = configparser.ConfigParser()\n",
    "config.read('dwh.cfg')\n",
    "\n",
    "conn = psycopg2.connect(\"host={} dbname={} user={} password={} port={}\".format(*config['CLUSTER'].values()))\n",
    "cur = conn.cursor()"
   ]
  },
  {
   "cell_type": "markdown",
   "metadata": {},
   "source": [
    "# Business Questions"
   ]
  },
  {
   "cell_type": "code",
   "execution_count": 2,
   "metadata": {},
   "outputs": [],
   "source": [
    "# Define query executor\n",
    "def exec_query(query, columns):\n",
    "    cur.execute(query)\n",
    "    rows = cur.fetchall()\n",
    "    df = pd.DataFrame(rows, columns=columns)\n",
    "    return df\n",
    "    "
   ]
  },
  {
   "cell_type": "markdown",
   "metadata": {},
   "source": [
    "#### What is the time period analysed?"
   ]
  },
  {
   "cell_type": "code",
   "execution_count": 3,
   "metadata": {
    "scrolled": true
   },
   "outputs": [
    {
     "name": "stdout",
     "output_type": "stream",
     "text": [
      "           start_time            end_time\n",
      "0 2018-11-01 21:11:13 2018-11-30 17:31:24\n",
      "CPU times: user 6.75 ms, sys: 1.9 ms, total: 8.65 ms\n",
      "Wall time: 69.5 ms\n"
     ]
    }
   ],
   "source": [
    "%%time\n",
    "\n",
    "query = \"\"\"\n",
    "select \n",
    "    min(start_time) as start_time, \n",
    "    max(start_time) as end_time \n",
    "from fact_songplay\n",
    "\"\"\"\n",
    "\n",
    "columns=['start_time','end_time']\n",
    "df = exec_query(query, columns)\n",
    "\n",
    "print(df.loc[:,:])"
   ]
  },
  {
   "cell_type": "markdown",
   "metadata": {},
   "source": [
    "#### Which locations have the most users using the app?"
   ]
  },
  {
   "cell_type": "code",
   "execution_count": 4,
   "metadata": {
    "scrolled": true
   },
   "outputs": [
    {
     "name": "stdout",
     "output_type": "stream",
     "text": [
      "                                       location  user_quantity\n",
      "0         New York-Newark-Jersey City, NY-NJ-PA              3\n",
      "1          Houston-The Woodlands-Sugar Land, TX              3\n",
      "2             Atlanta-Sandy Springs-Roswell, GA              3\n",
      "3   Philadelphia-Camden-Wilmington, PA-NJ-DE-MD              2\n",
      "4                                  Columbia, SC              2\n",
      "5            San Jose-Sunnyvale-Santa Clara, CA              2\n",
      "6                 San Antonio-New Braunfels, TX              2\n",
      "7                   Detroit-Warren-Dearborn, MI              1\n",
      "8                Pensacola-Ferry Pass-Brent, FL              1\n",
      "9                                    Eugene, OR              1\n",
      "10                               Santa Rosa, CA              1\n",
      "11          Portland-Vancouver-Hillsboro, OR-WA              1\n",
      "12              Dallas-Fort Worth-Arlington, TX              1\n",
      "13                     New Orleans-Metairie, LA              1\n",
      "14                                 Plymouth, IN              1\n",
      "CPU times: user 3.06 ms, sys: 428 µs, total: 3.49 ms\n",
      "Wall time: 33.6 ms\n"
     ]
    }
   ],
   "source": [
    "%%time\n",
    "\n",
    "query = \"\"\"\n",
    "select \n",
    "    location,\n",
    "    count(distinct user_id) as user_quantity\n",
    "from fact_songplay\n",
    "group by location\n",
    "order by count(distinct user_id) desc\n",
    "limit 15\n",
    "\"\"\"\n",
    "\n",
    "columns=['location', 'user_quantity']\n",
    "df = exec_query(query, columns)\n",
    "\n",
    "print(df.loc[:,:])"
   ]
  },
  {
   "cell_type": "markdown",
   "metadata": {},
   "source": [
    "#### What are the most played artists?"
   ]
  },
  {
   "cell_type": "code",
   "execution_count": 5,
   "metadata": {
    "scrolled": true
   },
   "outputs": [
    {
     "name": "stdout",
     "output_type": "stream",
     "text": [
      "                                       artist_name  quantity\n",
      "0                                    Dwight Yoakam        37\n",
      "1                   Kid Cudi / Kanye West / Common        10\n",
      "2                                         Kid Cudi        10\n",
      "3                                       Ron Carter         9\n",
      "4                                    Lonnie Gordon         9\n",
      "5                                            B.o.B         8\n",
      "6                                            Usher         6\n",
      "7                   Usher featuring Jermaine Dupri         6\n",
      "8                                             Muse         6\n",
      "9   Richard Hawley And Death Ramps_ Arctic Monkeys         5\n",
      "10                                  Arctic Monkeys         5\n",
      "11                                      The Smiths         4\n",
      "12                                       Metallica         4\n",
      "13                                  Counting Crows         4\n",
      "14                                 matchbox twenty         4\n",
      "CPU times: user 3.24 ms, sys: 91 µs, total: 3.33 ms\n",
      "Wall time: 34.1 ms\n"
     ]
    }
   ],
   "source": [
    "%%time\n",
    "\n",
    "query = \"\"\"\n",
    "select \n",
    "    da.name as artist_name,\n",
    "    count(fs.artist_id) as quantity\n",
    "from fact_songplay as fs\n",
    "join dim_artist as da\n",
    "on da.artist_id = fs.artist_id\n",
    "group by da.name\n",
    "order by count(fs.artist_id) desc\n",
    "limit 15\n",
    "\"\"\"\n",
    "\n",
    "columns=['artist_name', 'quantity']\n",
    "df = exec_query(query, columns)\n",
    "\n",
    "print(df.loc[:,:])"
   ]
  },
  {
   "cell_type": "markdown",
   "metadata": {},
   "source": [
    "#### What are the most played artists segmented by location?"
   ]
  },
  {
   "cell_type": "code",
   "execution_count": 6,
   "metadata": {
    "scrolled": true
   },
   "outputs": [
    {
     "name": "stdout",
     "output_type": "stream",
     "text": [
      "                       artist_name                                 location  \\\n",
      "0                    Dwight Yoakam                 Lansing-East Lansing, MI   \n",
      "1                    Dwight Yoakam        San Francisco-Oakland-Hayward, CA   \n",
      "2                       Ron Carter        San Francisco-Oakland-Hayward, CA   \n",
      "3                    Dwight Yoakam             Lake Havasu City-Kingman, AZ   \n",
      "4                    Dwight Yoakam       Chicago-Naperville-Elgin, IL-IN-WI   \n",
      "5                    Dwight Yoakam        Atlanta-Sandy Springs-Roswell, GA   \n",
      "6                    Dwight Yoakam                         Marinette, WI-MI   \n",
      "7                       The Smiths                 Lansing-East Lansing, MI   \n",
      "8                            Usher      Tampa-St. Petersburg-Clearwater, FL   \n",
      "9                   Arctic Monkeys        San Francisco-Oakland-Hayward, CA   \n",
      "10  Usher featuring Jermaine Dupri              Portland-South Portland, ME   \n",
      "11  Black Eyed Peas / Terry Dexter        San Francisco-Oakland-Hayward, CA   \n",
      "12                   Dwight Yoakam  Sacramento--Roseville--Arden-Arcade, CA   \n",
      "13                 Black Eyed Peas        San Francisco-Oakland-Hayward, CA   \n",
      "14                      38 Special            San Antonio-New Braunfels, TX   \n",
      "\n",
      "    quantity  \n",
      "0          5  \n",
      "1          4  \n",
      "2          4  \n",
      "3          3  \n",
      "4          3  \n",
      "5          3  \n",
      "6          2  \n",
      "7          2  \n",
      "8          2  \n",
      "9          2  \n",
      "10         2  \n",
      "11         2  \n",
      "12         2  \n",
      "13         2  \n",
      "14         2  \n",
      "CPU times: user 3.31 ms, sys: 721 µs, total: 4.03 ms\n",
      "Wall time: 33.9 ms\n"
     ]
    }
   ],
   "source": [
    "%%time\n",
    "\n",
    "query = \"\"\"\n",
    "select \n",
    "    da.name as artist_name,\n",
    "    fs.location as location,\n",
    "    count(fs.artist_id) as quantity\n",
    "from fact_songplay as fs\n",
    "join dim_artist as da\n",
    "on da.artist_id = fs.artist_id\n",
    "group by da.name, fs.location\n",
    "order by count(fs.artist_id) desc\n",
    "limit 15\n",
    "\"\"\"\n",
    "\n",
    "columns=['artist_name', 'location', 'quantity']\n",
    "df = exec_query(query, columns)\n",
    "\n",
    "print(df.loc[:,:])"
   ]
  },
  {
   "cell_type": "markdown",
   "metadata": {},
   "source": [
    "#### What are the most played songs?"
   ]
  },
  {
   "cell_type": "code",
   "execution_count": 7,
   "metadata": {
    "scrolled": true
   },
   "outputs": [
    {
     "name": "stdout",
     "output_type": "stream",
     "text": [
      "                                           song_title  quantity\n",
      "0                                      You're The One        37\n",
      "1                                 I CAN'T GET STARTED         9\n",
      "2   Catch You Baby (Steve Pitron & Max Sanna Radio...         9\n",
      "3   Nothin' On You [feat. Bruno Mars] (Album Version)         8\n",
      "4                            Hey Daddy (Daddy's Home)         6\n",
      "5                                        Make Her Say         5\n",
      "6                                        Up Up & Away         5\n",
      "7                                           Mr. Jones         4\n",
      "8             Supermassive Black Hole (Album Version)         4\n",
      "9                              Unwell (Album Version)         4\n",
      "10                           Given Up (Album Version)         3\n",
      "11                                      Fade To Black         3\n",
      "12                                             Rianna         3\n",
      "13                        From The Ritz To The Rubble         3\n",
      "14                               Let's Get It Started         3\n",
      "CPU times: user 3.35 ms, sys: 0 ns, total: 3.35 ms\n",
      "Wall time: 33.5 ms\n"
     ]
    }
   ],
   "source": [
    "%%time\n",
    "\n",
    "query = \"\"\"\n",
    "select \n",
    "    ds.title as song_title,\n",
    "    count(fs.song_id) as quantity\n",
    "from fact_songplay as fs\n",
    "join dim_song as ds\n",
    "on ds.song_id = fs.song_id\n",
    "group by ds.title\n",
    "order by count(fs.song_id) desc\n",
    "limit 15\n",
    "\"\"\"\n",
    "\n",
    "columns=['song_title', 'quantity']\n",
    "df = exec_query(query, columns)\n",
    "\n",
    "print(df.loc[:,:])"
   ]
  },
  {
   "cell_type": "markdown",
   "metadata": {},
   "source": [
    "#### What are the most played songs segmented by location?"
   ]
  },
  {
   "cell_type": "code",
   "execution_count": 8,
   "metadata": {
    "scrolled": true
   },
   "outputs": [
    {
     "name": "stdout",
     "output_type": "stream",
     "text": [
      "                                          artist_name  \\\n",
      "0                                      You're The One   \n",
      "1                                      You're The One   \n",
      "2                                 I CAN'T GET STARTED   \n",
      "3                                      You're The One   \n",
      "4                                      You're The One   \n",
      "5                                      You're The One   \n",
      "6                                Let's Get It Started   \n",
      "7                                      You're The One   \n",
      "8                                Girlfriend In A Coma   \n",
      "9   Nothin' On You [feat. Bruno Mars] (Album Version)   \n",
      "10                                     You're The One   \n",
      "11                                     You're The One   \n",
      "12                                   Caught Up In You   \n",
      "13                                     You're The One   \n",
      "14                           Hey Daddy (Daddy's Home)   \n",
      "\n",
      "                                   location  quantity  \n",
      "0                  Lansing-East Lansing, MI         5  \n",
      "1         San Francisco-Oakland-Hayward, CA         4  \n",
      "2         San Francisco-Oakland-Hayward, CA         4  \n",
      "3        Chicago-Naperville-Elgin, IL-IN-WI         3  \n",
      "4              Lake Havasu City-Kingman, AZ         3  \n",
      "5         Atlanta-Sandy Springs-Roswell, GA         3  \n",
      "6         San Francisco-Oakland-Hayward, CA         2  \n",
      "7   Sacramento--Roseville--Arden-Arcade, CA         2  \n",
      "8                  Lansing-East Lansing, MI         2  \n",
      "9       Tampa-St. Petersburg-Clearwater, FL         2  \n",
      "10      Tampa-St. Petersburg-Clearwater, FL         2  \n",
      "11                    New Haven-Milford, CT         2  \n",
      "12            San Antonio-New Braunfels, TX         2  \n",
      "13       San Jose-Sunnyvale-Santa Clara, CA         2  \n",
      "14      Tampa-St. Petersburg-Clearwater, FL         2  \n",
      "CPU times: user 4.07 ms, sys: 15 µs, total: 4.09 ms\n",
      "Wall time: 34 ms\n"
     ]
    }
   ],
   "source": [
    "%%time\n",
    "\n",
    "query = \"\"\"\n",
    "select \n",
    "    ds.title as song_title,\n",
    "    fs.location as location,\n",
    "    count(fs.song_id) as quantity\n",
    "from fact_songplay as fs\n",
    "join dim_song as ds\n",
    "on ds.song_id = fs.song_id\n",
    "group by ds.title, fs.location\n",
    "order by count(fs.song_id) desc\n",
    "limit 15\n",
    "\"\"\"\n",
    "\n",
    "columns=['artist_name', 'location', 'quantity']\n",
    "df = exec_query(query, columns)\n",
    "\n",
    "print(df.loc[:,:])"
   ]
  },
  {
   "cell_type": "markdown",
   "metadata": {},
   "source": [
    "#### How many users do we have for the different existing levels?"
   ]
  },
  {
   "cell_type": "code",
   "execution_count": 9,
   "metadata": {
    "scrolled": true
   },
   "outputs": [
    {
     "name": "stdout",
     "output_type": "stream",
     "text": [
      "  level  user_quantity\n",
      "0  free             83\n",
      "1  paid             22\n",
      "CPU times: user 2.29 ms, sys: 725 µs, total: 3.02 ms\n",
      "Wall time: 32.5 ms\n"
     ]
    }
   ],
   "source": [
    "%%time\n",
    "\n",
    "query = \"\"\"\n",
    "select \n",
    "    level,\n",
    "    count(user_id) as user_quantity\n",
    "from dim_user\n",
    "group by level\n",
    "order by count(user_id) desc\n",
    "limit 15\n",
    "\"\"\"\n",
    "\n",
    "columns=['level', 'user_quantity']\n",
    "df = exec_query(query, columns)\n",
    "\n",
    "print(df.loc[:,:])"
   ]
  },
  {
   "cell_type": "markdown",
   "metadata": {},
   "source": [
    "#### What are the most popular user agents?"
   ]
  },
  {
   "cell_type": "code",
   "execution_count": 10,
   "metadata": {
    "scrolled": false
   },
   "outputs": [
    {
     "name": "stdout",
     "output_type": "stream",
     "text": [
      "                                           user_agent  event_count\n",
      "0   \"Mozilla/5.0 (Macintosh; Intel Mac OS X 10_9_4...           51\n",
      "1   Mozilla/5.0 (Windows NT 5.1; rv:31.0) Gecko/20...           42\n",
      "2   \"Mozilla/5.0 (Macintosh; Intel Mac OS X 10_9_4...           34\n",
      "3   \"Mozilla/5.0 (X11; Linux x86_64) AppleWebKit/5...           28\n",
      "4   \"Mozilla/5.0 (Windows NT 6.3; WOW64) AppleWebK...           22\n",
      "5   Mozilla/5.0 (Macintosh; Intel Mac OS X 10.9; r...           22\n",
      "6   \"Mozilla/5.0 (Windows NT 6.1; WOW64) AppleWebK...           17\n",
      "7   \"Mozilla/5.0 (X11; Linux x86_64) AppleWebKit/5...           16\n",
      "8   Mozilla/5.0 (Windows NT 6.1; WOW64; rv:31.0) G...           13\n",
      "9   \"Mozilla/5.0 (Windows NT 5.1) AppleWebKit/537....           11\n",
      "10  \"Mozilla/5.0 (Macintosh; Intel Mac OS X 10_9_4...           10\n",
      "11  \"Mozilla/5.0 (Windows NT 6.3; WOW64) AppleWebK...           10\n",
      "12  \"Mozilla/5.0 (Macintosh; Intel Mac OS X 10_10_...            7\n",
      "13  \"Mozilla/5.0 (iPhone; CPU iPhone OS 7_1_2 like...            7\n",
      "14  \"Mozilla/5.0 (Macintosh; Intel Mac OS X 10_9_4...            5\n",
      "CPU times: user 2.39 ms, sys: 1.15 ms, total: 3.54 ms\n",
      "Wall time: 33.1 ms\n"
     ]
    }
   ],
   "source": [
    "%%time\n",
    "\n",
    "query = \"\"\"\n",
    "select \n",
    "    user_agent,\n",
    "    count(songplay_id) as event_count\n",
    "from fact_songplay\n",
    "group by user_agent\n",
    "order by count(songplay_id) desc\n",
    "limit 15\n",
    "\"\"\"\n",
    "\n",
    "columns=['user_agent', 'event_count']\n",
    "df = exec_query(query, columns)\n",
    "\n",
    "print(df.loc[:,:])"
   ]
  },
  {
   "cell_type": "markdown",
   "metadata": {},
   "source": [
    "#### What are the most used user agents segmented by user level?"
   ]
  },
  {
   "cell_type": "code",
   "execution_count": 11,
   "metadata": {
    "scrolled": false
   },
   "outputs": [
    {
     "name": "stdout",
     "output_type": "stream",
     "text": [
      "   level                                         user_agent  event_count\n",
      "0   paid  \"Mozilla/5.0 (Macintosh; Intel Mac OS X 10_9_4...           47\n",
      "1   paid  Mozilla/5.0 (Windows NT 5.1; rv:31.0) Gecko/20...           39\n",
      "2   paid  \"Mozilla/5.0 (Macintosh; Intel Mac OS X 10_9_4...           31\n",
      "3   paid  \"Mozilla/5.0 (X11; Linux x86_64) AppleWebKit/5...           28\n",
      "4   paid  Mozilla/5.0 (Macintosh; Intel Mac OS X 10.9; r...           20\n",
      "5   paid  \"Mozilla/5.0 (X11; Linux x86_64) AppleWebKit/5...           15\n",
      "6   paid  \"Mozilla/5.0 (Windows NT 6.3; WOW64) AppleWebK...           15\n",
      "7   paid  \"Mozilla/5.0 (Windows NT 6.1; WOW64) AppleWebK...           13\n",
      "8   paid  Mozilla/5.0 (Windows NT 6.1; WOW64; rv:31.0) G...           10\n",
      "9   paid  \"Mozilla/5.0 (Windows NT 5.1) AppleWebKit/537....           10\n",
      "10  paid  \"Mozilla/5.0 (Windows NT 6.3; WOW64) AppleWebK...            9\n",
      "11  paid  \"Mozilla/5.0 (Macintosh; Intel Mac OS X 10_10_...            7\n",
      "12  free  \"Mozilla/5.0 (Windows NT 6.3; WOW64) AppleWebK...            7\n",
      "13  paid  \"Mozilla/5.0 (iPhone; CPU iPhone OS 7_1_2 like...            7\n",
      "14  free  \"Mozilla/5.0 (Macintosh; Intel Mac OS X 10_9_4...            5\n",
      "CPU times: user 3.03 ms, sys: 1.01 ms, total: 4.04 ms\n",
      "Wall time: 33.6 ms\n"
     ]
    }
   ],
   "source": [
    "%%time\n",
    "\n",
    "query = \"\"\"\n",
    "select \n",
    "    level,\n",
    "    user_agent,\n",
    "    count(songplay_id) as event_count\n",
    "from fact_songplay\n",
    "group by level, user_agent\n",
    "order by count(songplay_id) desc\n",
    "limit 15\n",
    "\"\"\"\n",
    "\n",
    "columns=['level', 'user_agent', 'event_count']\n",
    "df = exec_query(query, columns)\n",
    "\n",
    "print(df.loc[:,:])"
   ]
  },
  {
   "cell_type": "markdown",
   "metadata": {},
   "source": [
    "# Close Connection"
   ]
  },
  {
   "cell_type": "code",
   "execution_count": 12,
   "metadata": {},
   "outputs": [],
   "source": [
    "conn.close()"
   ]
  }
 ],
 "metadata": {
  "kernelspec": {
   "display_name": "Python 3",
   "language": "python",
   "name": "python3"
  },
  "language_info": {
   "codemirror_mode": {
    "name": "ipython",
    "version": 3
   },
   "file_extension": ".py",
   "mimetype": "text/x-python",
   "name": "python",
   "nbconvert_exporter": "python",
   "pygments_lexer": "ipython3",
   "version": "3.6.3"
  }
 },
 "nbformat": 4,
 "nbformat_minor": 2
}
